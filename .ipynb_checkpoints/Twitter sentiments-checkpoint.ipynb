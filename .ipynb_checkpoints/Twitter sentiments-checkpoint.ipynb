{
 "cells": [
  {
   "cell_type": "code",
   "execution_count": 1,
   "id": "f19cd72b",
   "metadata": {},
   "outputs": [],
   "source": [
    "import pandas as pd\n",
    "import numpy as np\n",
    "import matplotlib.pyplot as plt\n",
    "import seaborn as sns\n",
    "from sklearn.feature_extraction.text import CountVectorizer, TfidfVectorizer\n",
    "from nltk.tokenize import TweetTokenizer\n",
    "from nltk.corpus import stopwords, words\n",
    "from textblob import TextBlob\n",
    "import zipfile\n",
    "import os, re"
   ]
  },
  {
   "cell_type": "code",
   "execution_count": 2,
   "id": "ed0c3210",
   "metadata": {},
   "outputs": [],
   "source": [
    "path = r'C:\\Users\\Jchukwuedozi\\Documents\\data science\\datasets\\deep learning'"
   ]
  },
  {
   "cell_type": "code",
   "execution_count": 3,
   "id": "103cfc66",
   "metadata": {},
   "outputs": [],
   "source": [
    "with zipfile.ZipFile(os.path.join(path, 'Twitter sentiment (NLP).zip'), 'r') as z:\n",
    "    with z.open('dataset.csv') as f:\n",
    "        all_tweets = pd.read_csv(f)"
   ]
  },
  {
   "cell_type": "code",
   "execution_count": 4,
   "id": "d580bc6b",
   "metadata": {},
   "outputs": [
    {
     "data": {
      "text/html": [
       "<div>\n",
       "<style scoped>\n",
       "    .dataframe tbody tr th:only-of-type {\n",
       "        vertical-align: middle;\n",
       "    }\n",
       "\n",
       "    .dataframe tbody tr th {\n",
       "        vertical-align: top;\n",
       "    }\n",
       "\n",
       "    .dataframe thead th {\n",
       "        text-align: right;\n",
       "    }\n",
       "</style>\n",
       "<table border=\"1\" class=\"dataframe\">\n",
       "  <thead>\n",
       "    <tr style=\"text-align: right;\">\n",
       "      <th></th>\n",
       "      <th>Text</th>\n",
       "      <th>Language</th>\n",
       "      <th>Label</th>\n",
       "    </tr>\n",
       "  </thead>\n",
       "  <tbody>\n",
       "    <tr>\n",
       "      <th>0</th>\n",
       "      <td>@Charlie_Corley @Kristine1G @amyklobuchar @Sty...</td>\n",
       "      <td>en</td>\n",
       "      <td>litigious</td>\n",
       "    </tr>\n",
       "    <tr>\n",
       "      <th>1</th>\n",
       "      <td>#BadBunny: Como dos gotas de agua: Joven se di...</td>\n",
       "      <td>es</td>\n",
       "      <td>negative</td>\n",
       "    </tr>\n",
       "    <tr>\n",
       "      <th>2</th>\n",
       "      <td>https://t.co/YJNiO0p1JV Flagstar Bank disclose...</td>\n",
       "      <td>en</td>\n",
       "      <td>litigious</td>\n",
       "    </tr>\n",
       "    <tr>\n",
       "      <th>3</th>\n",
       "      <td>Rwanda is set to host the headquarters of Unit...</td>\n",
       "      <td>en</td>\n",
       "      <td>positive</td>\n",
       "    </tr>\n",
       "    <tr>\n",
       "      <th>4</th>\n",
       "      <td>OOPS. I typed her name incorrectly (today’s br...</td>\n",
       "      <td>en</td>\n",
       "      <td>litigious</td>\n",
       "    </tr>\n",
       "  </tbody>\n",
       "</table>\n",
       "</div>"
      ],
      "text/plain": [
       "                                                Text Language      Label\n",
       "0  @Charlie_Corley @Kristine1G @amyklobuchar @Sty...       en  litigious\n",
       "1  #BadBunny: Como dos gotas de agua: Joven se di...       es   negative\n",
       "2  https://t.co/YJNiO0p1JV Flagstar Bank disclose...       en  litigious\n",
       "3  Rwanda is set to host the headquarters of Unit...       en   positive\n",
       "4  OOPS. I typed her name incorrectly (today’s br...       en  litigious"
      ]
     },
     "execution_count": 4,
     "metadata": {},
     "output_type": "execute_result"
    }
   ],
   "source": [
    "all_tweets.head()"
   ]
  },
  {
   "cell_type": "code",
   "execution_count": null,
   "id": "8895837c",
   "metadata": {},
   "outputs": [],
   "source": []
  },
  {
   "cell_type": "code",
   "execution_count": 5,
   "id": "d21239a6",
   "metadata": {},
   "outputs": [
    {
     "name": "stdout",
     "output_type": "stream",
     "text": [
      "<class 'pandas.core.frame.DataFrame'>\n",
      "RangeIndex: 937854 entries, 0 to 937853\n",
      "Data columns (total 3 columns):\n",
      " #   Column    Non-Null Count   Dtype \n",
      "---  ------    --------------   ----- \n",
      " 0   Text      937854 non-null  object\n",
      " 1   Language  937831 non-null  object\n",
      " 2   Label     937854 non-null  object\n",
      "dtypes: object(3)\n",
      "memory usage: 21.5+ MB\n"
     ]
    }
   ],
   "source": [
    "all_tweets.info()"
   ]
  },
  {
   "cell_type": "code",
   "execution_count": 6,
   "id": "8881e167",
   "metadata": {},
   "outputs": [],
   "source": [
    "all_tweets.dropna(inplace=True)"
   ]
  },
  {
   "cell_type": "code",
   "execution_count": 7,
   "id": "cf5ff8c9",
   "metadata": {},
   "outputs": [],
   "source": [
    "tweets = all_tweets.iloc[:10, :].copy(deep=True)"
   ]
  },
  {
   "cell_type": "code",
   "execution_count": 8,
   "id": "8427f296",
   "metadata": {},
   "outputs": [],
   "source": [
    "tweets['Language'] = tweets['Language'].apply(lambda x: x if len(x) < 4 else np.nan)"
   ]
  },
  {
   "cell_type": "code",
   "execution_count": 9,
   "id": "025dac9d",
   "metadata": {},
   "outputs": [],
   "source": [
    "tweets.dropna(inplace=True)"
   ]
  },
  {
   "cell_type": "markdown",
   "id": "d08c580e",
   "metadata": {},
   "source": [
    "### Removal of stopwords"
   ]
  },
  {
   "cell_type": "code",
   "execution_count": 10,
   "id": "c06aa084",
   "metadata": {},
   "outputs": [],
   "source": [
    "tweets['Text'] = tweets['Text'].apply(lambda x: ' '.join(x.lower() for x in x.split()))\n",
    "words = stopwords.words()\n",
    "tweets['Text'] = tweets['Text'].apply(lambda x: ' '.join(x for x in x.split() if x not in words))"
   ]
  },
  {
   "cell_type": "markdown",
   "id": "e02535c0",
   "metadata": {},
   "source": [
    "### Standardizing words"
   ]
  },
  {
   "cell_type": "code",
   "execution_count": 11,
   "id": "35fdf03c",
   "metadata": {},
   "outputs": [],
   "source": [
    "abbreviation_dict = {'ur': 'your', 'sef':'self', 'wbu': 'what about you', 'wat': 'what', 'den':'then',\n",
    "              'd': 'the', 'lyk': 'like', 'msg': 'message', 'fyi': 'for your information',\n",
    "               'nyt':'night', 'nvm': 'nevermind', 'swt': 'sweet'}"
   ]
  },
  {
   "cell_type": "code",
   "execution_count": 12,
   "id": "beb5c28a",
   "metadata": {},
   "outputs": [],
   "source": [
    "def standardize_text(sentence):\n",
    "    '''This is a function created to standardize text, i.e. takeaway abbreviations.\n",
    "    It accepts a single argument which is the sentence you plan to standardize.\n",
    "    \n",
    "    \"sentence -- Any sentence used as argument\"\n",
    "    \n",
    "    '''\n",
    "    lists = []\n",
    "    for word in sentence.split():\n",
    "        if word in abbreviation_dict.keys():\n",
    "            word = abbreviation_dict[word]\n",
    "        else:\n",
    "            word = word\n",
    "        lists.append(word)\n",
    "        new_sentence = ' '.join(lists)\n",
    "    return new_sentence"
   ]
  },
  {
   "cell_type": "code",
   "execution_count": 13,
   "id": "677b9084",
   "metadata": {},
   "outputs": [],
   "source": [
    "data = tweets.copy(deep=True)"
   ]
  },
  {
   "cell_type": "code",
   "execution_count": 14,
   "id": "240c03ac",
   "metadata": {},
   "outputs": [],
   "source": [
    "data['Text'] = data['Text'].apply(standardize_text)"
   ]
  },
  {
   "cell_type": "markdown",
   "id": "c4ca6d22",
   "metadata": {},
   "source": [
    "### Correct spelling to avoid having multiple copies of the same word"
   ]
  },
  {
   "cell_type": "code",
   "execution_count": 15,
   "id": "1f19ce88",
   "metadata": {},
   "outputs": [],
   "source": [
    "# data['Text'] = data['Text'].apply(lambda x: str(TextBlob(x).correct()))"
   ]
  },
  {
   "cell_type": "code",
   "execution_count": 36,
   "id": "c5f67fe6",
   "metadata": {},
   "outputs": [],
   "source": [
    "def correct_spelling_blob(sentence):\n",
    "    lists = []\n",
    "    for word in sentence.split():\n",
    "        lists.append(str(TextBlob(word).correct()))\n",
    "        new_sentence = ' '.join(lists)\n",
    "    return new_sentence"
   ]
  },
  {
   "cell_type": "code",
   "execution_count": 17,
   "id": "f96daf41",
   "metadata": {},
   "outputs": [],
   "source": [
    "data['Text'] = data['Text'].apply(correct_spelling_blob)"
   ]
  },
  {
   "cell_type": "code",
   "execution_count": null,
   "id": "25ee56ee",
   "metadata": {},
   "outputs": [],
   "source": []
  }
 ],
 "metadata": {
  "kernelspec": {
   "display_name": "Python 3 (ipykernel)",
   "language": "python",
   "name": "python3"
  },
  "language_info": {
   "codemirror_mode": {
    "name": "ipython",
    "version": 3
   },
   "file_extension": ".py",
   "mimetype": "text/x-python",
   "name": "python",
   "nbconvert_exporter": "python",
   "pygments_lexer": "ipython3",
   "version": "3.10.8"
  }
 },
 "nbformat": 4,
 "nbformat_minor": 5
}
